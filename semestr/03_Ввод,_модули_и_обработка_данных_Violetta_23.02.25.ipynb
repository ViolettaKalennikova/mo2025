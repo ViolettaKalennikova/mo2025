{
  "cells": [
    {
      "cell_type": "markdown",
      "id": "8f85e9d3",
      "metadata": {
        "id": "8f85e9d3"
      },
      "source": [
        "# 03 Ввод данных. input()"
      ]
    },
    {
      "cell_type": "markdown",
      "id": "cc58dfa3",
      "metadata": {
        "id": "cc58dfa3"
      },
      "source": [
        "Познакомимся с функцией input() - ввод. Это функция позволяет нам просить\n",
        "пользователя что-нибудь ввести или принять на ввод какие-то данные."
      ]
    },
    {
      "cell_type": "code",
      "execution_count": 2,
      "id": "3698fa45",
      "metadata": {
        "scrolled": true,
        "colab": {
          "base_uri": "https://localhost:8080/"
        },
        "id": "3698fa45",
        "outputId": "adb74e47-70f9-4afa-ece0-08556fca571b"
      },
      "outputs": [
        {
          "output_type": "stream",
          "name": "stdout",
          "text": [
            "Как вас зовут?Виолетта\n",
            "Виолетта\n"
          ]
        }
      ],
      "source": [
        "x = input('Как вас зовут?')\n",
        "print(x)"
      ]
    },
    {
      "cell_type": "markdown",
      "id": "2e60102b",
      "metadata": {
        "id": "2e60102b"
      },
      "source": [
        "'Как вас зовут?' - аргумент функции input(), который будет отображаться в строке ввода. Он необязателен, но он может быть полезен для вас (особенно, если в задаче требуется ввести больше одной строки данных и нужно не запутаться).\n",
        "\n",
        "Обратите внимание, что функция  input() все сохраняет в строковом формате данных. Но мы можем сделать из\n",
        "числа-строки число-число с помощью функции int(). Введите \"1\" в обоих случаях и сравните результат."
      ]
    },
    {
      "cell_type": "code",
      "execution_count": 3,
      "id": "450ca3c0",
      "metadata": {
        "colab": {
          "base_uri": "https://localhost:8080/"
        },
        "id": "450ca3c0",
        "outputId": "aeabd25f-c391-438f-dc67-353035005ee1"
      },
      "outputs": [
        {
          "output_type": "stream",
          "name": "stdout",
          "text": [
            "1\n",
            "<class 'str'>\n",
            "1\n",
            "<class 'int'>\n"
          ]
        }
      ],
      "source": [
        "print(type(input()))\n",
        "print(type(int(input())))"
      ]
    },
    {
      "cell_type": "markdown",
      "id": "d6194b8e",
      "metadata": {
        "id": "d6194b8e"
      },
      "source": [
        "Нужно следить за тем, какие данные вы считываете и менять их при необходимости. Сравните два примере ниже."
      ]
    },
    {
      "cell_type": "code",
      "execution_count": 4,
      "id": "0888dc6c",
      "metadata": {
        "colab": {
          "base_uri": "https://localhost:8080/"
        },
        "id": "0888dc6c",
        "outputId": "60119510-e44a-430d-ad83-e8726926a723"
      },
      "outputs": [
        {
          "output_type": "stream",
          "name": "stdout",
          "text": [
            "Input x value: 12\n",
            "Input y value: 11\n",
            "1211\n"
          ]
        }
      ],
      "source": [
        "x = input('Input x value: ')\n",
        "y = input('Input y value: ')\n",
        "print(x + y) # произошла склейка строк, по умолчанию input() сохраняет значение типа str"
      ]
    },
    {
      "cell_type": "code",
      "execution_count": 5,
      "id": "9a993185",
      "metadata": {
        "colab": {
          "base_uri": "https://localhost:8080/"
        },
        "id": "9a993185",
        "outputId": "363dece6-1397-4dc0-976b-8e38143a7eec"
      },
      "outputs": [
        {
          "output_type": "stream",
          "name": "stdout",
          "text": [
            "Input x value: 122\n",
            "Input y value: 2\n",
            "124\n"
          ]
        }
      ],
      "source": [
        "x = int(input('Input x value: '))\n",
        "y = int(input('Input y value: '))\n",
        "print(x + y) # вот теперь произошло сложение чисел"
      ]
    },
    {
      "cell_type": "markdown",
      "id": "2a001194",
      "metadata": {
        "id": "2a001194"
      },
      "source": [
        "## Задача 1. Pig Latin 1\n",
        "\n",
        "Pig Latin - вымышленный язык, который в конец каждого слова подставляет 'yay' (на самом деле оригинальные условия задачи несколько хитрее, но мы будем к ней возвращаться по ходу курса.\n",
        "\n",
        "**Формат ввода**  \n",
        "Пользователь вводит слова.\n",
        "\n",
        "**Формат вывода**\n",
        "Слово на Pig Latin.\n",
        "\n",
        "\n",
        "#### Примеры\n",
        "Тест 1  \n",
        "**Ввод:**  \n",
        "apple\n",
        "\n",
        "**Вывод:**  \n",
        "appleyay"
      ]
    },
    {
      "cell_type": "code",
      "execution_count": 7,
      "id": "f3e532fa",
      "metadata": {
        "colab": {
          "base_uri": "https://localhost:8080/"
        },
        "id": "f3e532fa",
        "outputId": "13769baa-787b-4431-bb87-29183db847c0"
      },
      "outputs": [
        {
          "output_type": "stream",
          "name": "stdout",
          "text": [
            "Введите слово: march\n",
            "marchyay\n"
          ]
        }
      ],
      "source": [
        "word = input('Введите слово: ')\n",
        "print(word+'yay')"
      ]
    },
    {
      "cell_type": "markdown",
      "id": "ea45a103",
      "metadata": {
        "id": "ea45a103"
      },
      "source": [
        "## Задача 2. Как перевести градусы Цельсия в градусы Фаренгейта\n",
        "Чтобы при помощи Python перевести градусы Цельсия в градусы Фаренгейта (или наоборот), необходимо реализовать в коде следующие формулы:\n",
        "\n",
        "Градусы Цельсия в градусы Фаренгейта:\n",
        "F = 1.8 x C + 32\n",
        "\n",
        "Градусы Фаренгейта в градусы Цельсия:\n",
        "C = (F - 32) / 1.8"
      ]
    },
    {
      "cell_type": "code",
      "execution_count": 8,
      "id": "a8045be4",
      "metadata": {
        "colab": {
          "base_uri": "https://localhost:8080/"
        },
        "id": "a8045be4",
        "outputId": "aa083bfc-539a-43d3-bdee-e7700bce2b62"
      },
      "outputs": [
        {
          "output_type": "stream",
          "name": "stdout",
          "text": [
            "Give me a temperature in celcius: 30\n",
            "The temperature is  86.0  in fahrenheit\n"
          ]
        }
      ],
      "source": [
        "# Запросить пользовательский ввод (температуру в градусах Цельсия)\n",
        "c = float(input(\"Give me a temperature in celcius: \"))\n",
        "# Преобразовать значение, введенное пользователем, в градусы Фаренгейта\n",
        "f = 1.8 * c + 32\n",
        "# Вывести результат\n",
        "print(\"The temperature is \",f,\" in fahrenheit\")"
      ]
    },
    {
      "cell_type": "code",
      "execution_count": 12,
      "id": "aeea655a",
      "metadata": {
        "colab": {
          "base_uri": "https://localhost:8080/"
        },
        "id": "aeea655a",
        "outputId": "ba291e3d-e857-4576-b8e8-b5fe698434ce"
      },
      "outputs": [
        {
          "output_type": "stream",
          "name": "stdout",
          "text": [
            "Give me a temperature in Fahrenheit: 86\n",
            "The temperature is 30.0 in celcius\n"
          ]
        }
      ],
      "source": [
        "# Здесь напишите программу для преобразования градусов Фаренгейта в градусы Цельсия\n",
        "f = float(input(\"Give me a temperature in Fahrenheit: \"))\n",
        "c = (f - 32) / 1.8\n",
        "print(\"The temperature is\",c,\"in celcius\")"
      ]
    },
    {
      "cell_type": "markdown",
      "id": "8f28db59",
      "metadata": {
        "id": "8f28db59"
      },
      "source": [
        "## Импорт модулей\n",
        "По мере количества строк вашего кода будет не лишним начинать пользоваться модулями.\n",
        "\n",
        "Модуль — это файл, содержащий функции и операторы. У всех модулей в Python есть имя, которое заканчивается расширением .py.\n",
        "\n",
        "Операторы внутри модуля могут быть импортированы в другой модуль или в интерпретатор Python. Для этого мы используем ключевое слово import.\n",
        "\n",
        "Например, мы можем импортировать модуль math. Делается это следующим образом:\n",
        "\n",
        "`import math`"
      ]
    },
    {
      "cell_type": "code",
      "execution_count": 13,
      "id": "abba2114",
      "metadata": {
        "colab": {
          "base_uri": "https://localhost:8080/"
        },
        "id": "abba2114",
        "outputId": "bc60ab42-047a-4b60-95ab-6652c52b0f81"
      },
      "outputs": [
        {
          "output_type": "stream",
          "name": "stdout",
          "text": [
            "3.141592653589793\n"
          ]
        }
      ],
      "source": [
        "import math\n",
        "print(math.pi)"
      ]
    },
    {
      "cell_type": "markdown",
      "id": "0a0506bf",
      "metadata": {
        "id": "0a0506bf"
      },
      "source": [
        "## Модуль random\n",
        "Модуль random позволяет генерировать случайные числа. Прежде чем использовать модуль, необходимо подключить его\n",
        "\n",
        "`import random`"
      ]
    },
    {
      "cell_type": "code",
      "source": [
        "import random\n",
        "print (random)"
      ],
      "metadata": {
        "colab": {
          "base_uri": "https://localhost:8080/"
        },
        "id": "5y8TjE8EmSjm",
        "outputId": "a6a3c9af-546d-45b3-d8d6-ee64bd9a870c"
      },
      "id": "5y8TjE8EmSjm",
      "execution_count": 16,
      "outputs": [
        {
          "output_type": "stream",
          "name": "stdout",
          "text": [
            "<module 'random' from '/usr/lib/python3.11/random.py'>\n"
          ]
        }
      ]
    },
    {
      "cell_type": "markdown",
      "id": "cf95f26e",
      "metadata": {
        "id": "cf95f26e"
      },
      "source": [
        "## randint\n",
        "\n",
        "Функция randint(a, b) получает на вход два целых числа и возвращает случайное значение из диапазона [a,b]    (a и b входят в этот диапазон).\n"
      ]
    },
    {
      "cell_type": "code",
      "execution_count": 18,
      "id": "15d2a919",
      "metadata": {
        "colab": {
          "base_uri": "https://localhost:8080/"
        },
        "id": "15d2a919",
        "outputId": "7f9133cf-77b0-4da4-e49f-26b70ec21ce0"
      },
      "outputs": [
        {
          "output_type": "stream",
          "name": "stdout",
          "text": [
            "39\n"
          ]
        }
      ],
      "source": [
        "import random\n",
        "\n",
        "random_number = random.randint(0, 125)\n",
        "print(random_number)"
      ]
    },
    {
      "cell_type": "markdown",
      "id": "984611ba",
      "metadata": {
        "id": "984611ba"
      },
      "source": [
        "## randrange\n",
        "\n",
        "В функцию randrange(start, stop[, step]) передают три целых числа:\n",
        "\n",
        "start\n",
        " – начало диапазона (входит в последовательность);\n",
        "\n",
        "stop\n",
        " – конец диапазона (в последовательность не входит);\n",
        "\n",
        "step\n",
        " – шаг генерации (если на его месте написать 0, получим ошибку \"ValueError\").\n",
        "\n",
        "На выходе функция выдает случайное число в заданном диапазоне"
      ]
    },
    {
      "cell_type": "code",
      "execution_count": 20,
      "id": "903cde2b",
      "metadata": {
        "colab": {
          "base_uri": "https://localhost:8080/"
        },
        "id": "903cde2b",
        "outputId": "679d67cb-cbe5-4238-9291-5ca46f949cfc"
      },
      "outputs": [
        {
          "output_type": "stream",
          "name": "stdout",
          "text": [
            "71\n"
          ]
        }
      ],
      "source": [
        "import random\n",
        "\n",
        "random_number = random.randrange(1, 100, 2)\n",
        "print(random_number)"
      ]
    },
    {
      "cell_type": "markdown",
      "id": "9c2e9ce0",
      "metadata": {
        "id": "9c2e9ce0"
      },
      "source": [
        "## random\n",
        "\n",
        "Функция  random()  выдает вещественные числа, в диапазоне [0.0, 1.0)\n",
        "\n",
        " (включая 0.0, но не включая 1.0)."
      ]
    },
    {
      "cell_type": "code",
      "execution_count": 22,
      "id": "2b716608",
      "metadata": {
        "colab": {
          "base_uri": "https://localhost:8080/"
        },
        "id": "2b716608",
        "outputId": "9cb484d9-8051-4a1d-ab8c-a98285e5dbba"
      },
      "outputs": [
        {
          "output_type": "stream",
          "name": "stdout",
          "text": [
            "0.27260134198827535\n"
          ]
        }
      ],
      "source": [
        "import random\n",
        "\n",
        "random_number = random.random()\n",
        "print(random_number)"
      ]
    },
    {
      "cell_type": "markdown",
      "id": "8d4f5f10",
      "metadata": {
        "id": "8d4f5f10"
      },
      "source": [
        "## Задача 3. Как перевести случайные градусы Цельсия в градусы Фаренгейта.\n",
        "\n",
        "Сделайте снова перевод градусов Цельсия в Фаренгейт, только теперь не запрашивайте градусы с клавиатуры, а сгенерируйте случайно в диапазоне [-50, 42]"
      ]
    },
    {
      "cell_type": "code",
      "execution_count": 31,
      "id": "39f06ca3",
      "metadata": {
        "colab": {
          "base_uri": "https://localhost:8080/"
        },
        "id": "39f06ca3",
        "outputId": "079663e8-ce6b-44e1-c840-4c864ae469e3"
      },
      "outputs": [
        {
          "output_type": "stream",
          "name": "stdout",
          "text": [
            "-12 degrees in Celsius equals 10.399999999999999 degrees in Fahrenheit\n"
          ]
        }
      ],
      "source": [
        "c = random_number = random.randint(-50, 42)\n",
        "f = 1.8 * c + 32\n",
        "print (c, \"degrees in Celsius equals\" ,f, \"degrees in Fahrenheit\")"
      ]
    },
    {
      "cell_type": "markdown",
      "id": "06be6026",
      "metadata": {
        "id": "06be6026"
      },
      "source": [
        "# Задание 1\n",
        "\n",
        "Карандаш стоит X рублей за штуку. Покупатель дал кассиру Y рублей и хочет купить 8 карандашей. Какую сдачу он должен получить? Ответ дайте в рублях. (X и Y запросить у пользователя)\n"
      ]
    },
    {
      "cell_type": "code",
      "source": [
        "X = float(input(\"Введите стоимость одного карандаша в рублях: \"))\n",
        "Y = float(input(\"Введите сумму денег, которую покупатель дал кассиру в рублях: \")) #тут можно было сделать int(input): маловероятно, что кто-то дает рубли с копейками\n",
        "total_cost = X * 8\n",
        "change = Y - total_cost\n",
        "print(\"Покупатель должен получить сдачу в размере\" ,change, \"рублей.\")"
      ],
      "metadata": {
        "colab": {
          "base_uri": "https://localhost:8080/"
        },
        "id": "XGU5xELWsqNV",
        "outputId": "d87ee011-8236-40fc-c7a1-5a275a82b6fe"
      },
      "id": "XGU5xELWsqNV",
      "execution_count": 42,
      "outputs": [
        {
          "output_type": "stream",
          "name": "stdout",
          "text": [
            "Введите стоимость одного карандаша в рублях: 34\n",
            "Введите сумму денег, которую покупатель дал кассиру в рублях: 34556\n",
            "Покупатель должен получить сдачу в размере 34284.0 рублей.\n"
          ]
        }
      ]
    },
    {
      "cell_type": "code",
      "execution_count": 40,
      "id": "287d09ee",
      "metadata": {
        "id": "287d09ee",
        "colab": {
          "base_uri": "https://localhost:8080/"
        },
        "outputId": "96944aff-ca5a-410a-ae1f-a8b0d79ed289"
      },
      "outputs": [
        {
          "output_type": "stream",
          "name": "stdout",
          "text": [
            "Покупатель получит сдачу 3219 рублей, при условии, что карандаш стоит 51 рублей и что покупатель дал продавцу 3627 рублей.\n"
          ]
        }
      ],
      "source": [
        "X = random_number = random.randint(1, 100) #сначала неправильно прочитала условие задачи, оставлю на память этот код\n",
        "Y = random_number = random.randint(101, 5000)\n",
        "Z = Y - (X*8)\n",
        "print (\"Покупатель получит сдачу\" ,Z, \"рублей, при условии, что карандаш стоит\" ,X, \"рублей и что покупатель дал продавцу\" ,Y, \"рублей.\")"
      ]
    },
    {
      "cell_type": "markdown",
      "id": "fbba2f6b",
      "metadata": {
        "id": "fbba2f6b"
      },
      "source": [
        "# Задание 3\n",
        "\n",
        "Ребенок в день съедает X творожка. Творожок продается в упаковках по Y штук. Какое наименьшее число упаковок надо купить, чтобы ребенку хватило на две недели?  (X и Y запросить у пользователя)"
      ]
    },
    {
      "cell_type": "code",
      "execution_count": 54,
      "id": "b6861407",
      "metadata": {
        "id": "b6861407",
        "colab": {
          "base_uri": "https://localhost:8080/"
        },
        "outputId": "1f043918-89e6-400b-b98f-cfff38d15ccf"
      },
      "outputs": [
        {
          "output_type": "stream",
          "name": "stdout",
          "text": [
            "Сколько творожков ребенок съедает в день? 4\n",
            "Сколько творожков в одной упаковке? 2\n",
            "Минимальное количество упаковок, которое нужно купить: 28 .\n"
          ]
        }
      ],
      "source": [
        "X = int(input(\"Сколько творожков ребенок съедает в день? \"))\n",
        "Y = int(input(\"Сколько творожков в одной упаковке? \"))\n",
        "total = 14 * X\n",
        "min_packages = math.ceil(total / Y)\n",
        "print(\"Минимальное количество упаковок, которое нужно купить:\" ,min_packages,\".\")"
      ]
    },
    {
      "cell_type": "markdown",
      "id": "259d0e60",
      "metadata": {
        "id": "259d0e60"
      },
      "source": [
        "# Задание 4\n",
        "\n",
        "Килограмм картошки стоит Х рублей. У Олега есть 1000 р, из этой суммы он 640 р должен положить на телефон, а на остальные деньги он купил картошку. Сколько килограмм купил Олег, если он получил сдачу Y рублей?\n",
        " (X и Y запросить у пользователя)"
      ]
    },
    {
      "cell_type": "code",
      "execution_count": 56,
      "id": "8f9fa034",
      "metadata": {
        "id": "8f9fa034",
        "colab": {
          "base_uri": "https://localhost:8080/"
        },
        "outputId": "1c9bd720-09d6-4025-a333-688a57af1e0b"
      },
      "outputs": [
        {
          "output_type": "stream",
          "name": "stdout",
          "text": [
            "Введите цену одного килограмма картофеля в рублях: 99\n",
            "Введите сумму сдачи в рублях: 34\n",
            "Олег купил 3.292929292929293 кг картофеля.\n"
          ]
        }
      ],
      "source": [
        "X = float(input(\"Введите цену одного килограмма картофеля в рублях: \"))\n",
        "Y = float(input(\"Введите сумму сдачи в рублях: \"))\n",
        "balance_of_money = 1000 - 640\n",
        "Z = (balance_of_money - Y) / X    #кол-во купленного картофеля\n",
        "print(\"Олег купил\" ,Z, \"кг картофеля.\")"
      ]
    }
  ],
  "metadata": {
    "kernelspec": {
      "display_name": "Python 3 (ipykernel)",
      "language": "python",
      "name": "python3"
    },
    "language_info": {
      "codemirror_mode": {
        "name": "ipython",
        "version": 3
      },
      "file_extension": ".py",
      "mimetype": "text/x-python",
      "name": "python",
      "nbconvert_exporter": "python",
      "pygments_lexer": "ipython3",
      "version": "3.9.13"
    },
    "colab": {
      "provenance": []
    }
  },
  "nbformat": 4,
  "nbformat_minor": 5
}