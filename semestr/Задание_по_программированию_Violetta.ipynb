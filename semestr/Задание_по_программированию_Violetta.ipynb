{
  "cells": [
    {
      "cell_type": "markdown",
      "id": "3e424bc2",
      "metadata": {
        "id": "3e424bc2"
      },
      "source": [
        "# A - Задача на вычисление\n",
        "\n",
        "Для ремонта квартиры требуется 63 рулона обоев. Сколько пачек обойного клея нужно купить, если одна пачка клея рассчитана на 6 рулонов?"
      ]
    },
    {
      "cell_type": "markdown",
      "id": "39a98f31",
      "metadata": {
        "id": "39a98f31"
      },
      "source": [
        "## Задание\n",
        "\n",
        "Напишите программу на языке Python для решения задачи с использованием переменных."
      ]
    },
    {
      "cell_type": "code",
      "execution_count": 12,
      "metadata": {
        "id": "1bcc8755",
        "colab": {
          "base_uri": "https://localhost:8080/"
        },
        "outputId": "13ac5785-2f95-4953-f2c2-e9b441a868be"
      },
      "outputs": [
        {
          "output_type": "stream",
          "name": "stdout",
          "text": [
            "Требуется 11 пачек клея.\n"
          ]
        }
      ],
      "source": [
        "# Ваш код здесь\n",
        "# 1. Входные данные. Здесь нужно определить переменные для хранения входных данных и присвоить им значения.\n",
        "total_wallpaper = 63 #вся квартира\n",
        "one_pack_of_glue = 6 #рулонов\n",
        "\n",
        "# 2. Обработка данных. Здесь нужно вычислить искомое значение и сохранить его в переменной.\n",
        "packages_needed = total_wallpaper / one_pack_of_glue\n",
        "\n",
        "from math import ceil\n",
        "packages_needed = ceil (packages_needed)\n",
        "\n",
        "# 3. Вывод результатов. Здесь нужно вывести вычисленное значение на экран.\n",
        "print(\"Требуется\" ,packages_needed, \"пачек клея.\")"
      ],
      "id": "1bcc8755"
    },
    {
      "cell_type": "markdown",
      "id": "7bb14917",
      "metadata": {
        "id": "7bb14917"
      },
      "source": [
        "# B - Задача на ввод и вывод\n",
        "\n",
        "Баночка йогурта стоит X рубей. Какое наибольшее количество баночек йогурта можно купить на Y рублей?"
      ]
    },
    {
      "cell_type": "markdown",
      "id": "a71c1b70",
      "metadata": {
        "id": "a71c1b70"
      },
      "source": [
        "## Задание\n",
        "\n",
        "Напишите программу на языке Python для решения задачи с использованием переменных."
      ]
    },
    {
      "cell_type": "code",
      "execution_count": 14,
      "id": "1f62ff73",
      "metadata": {
        "id": "1f62ff73",
        "colab": {
          "base_uri": "https://localhost:8080/"
        },
        "outputId": "836b1540-0db1-4218-e50d-d4a6d70f5a9f"
      },
      "outputs": [
        {
          "output_type": "stream",
          "name": "stdout",
          "text": [
            "Введите стоимость одной баночки йогурта: 89\n",
            "Введите сумму денег: 1234\n",
            "На 1234 рублей можно купить 13 баночек йогурта.\n"
          ]
        }
      ],
      "source": [
        "# Ваш код здесь\n",
        "# 1. Входные данные. Здесь нужно определить переменные для хранения входных данных и ввести значения с клавиатуры.\n",
        "X = int(input(\"Введите стоимость одной баночки йогурта: \"))\n",
        "Y = int(input(\"Введите сумму денег: \"))\n",
        "\n",
        "# 2. Обработка данных. Здесь нужно вычислить искомое значение и сохранить его в переменной.\n",
        "quantity = Y // X\n",
        "\n",
        "# 3. Вывод результатов. Здесь нужно вывести вычисленное значение на экран.\n",
        "print(\"На\" ,Y, \"рублей можно купить\" ,quantity, \"баночек йогурта.\")"
      ]
    },
    {
      "cell_type": "markdown",
      "id": "493a54a9",
      "metadata": {
        "id": "493a54a9"
      },
      "source": [
        "# C - Задача про Елисея\n",
        "\n",
        "Елисей меняет прическу исходя из времени года. Зимой он отращивает волосы, весной он носит челку на сторону, летом он стрижется налысо, осенью носит короткую стрижку."
      ]
    },
    {
      "cell_type": "markdown",
      "id": "dc20ab58",
      "metadata": {
        "id": "dc20ab58"
      },
      "source": [
        "## Задание\n",
        "\n",
        "Напишите программу на языке Python, которая по введенному времени года выведет прическу для Елисея."
      ]
    },
    {
      "cell_type": "code",
      "execution_count": 21,
      "id": "1c17ce8f",
      "metadata": {
        "id": "1c17ce8f",
        "colab": {
          "base_uri": "https://localhost:8080/"
        },
        "outputId": "ab971845-12cd-4c24-bcfa-68fe7f70f0bd"
      },
      "outputs": [
        {
          "output_type": "stream",
          "name": "stdout",
          "text": [
            "Введите время года (зима, весна, лето, осень): зима\n",
            "Елисей отращивает волосы .\n"
          ]
        }
      ],
      "source": [
        "# Ваш код здесь\n",
        "# 1. Входные данные. Здесь нужно определить переменные для хранения входных данных и ввести значения с клавиатуры.\n",
        "season = input(\"Введите время года (зима, весна, лето, осень): \")\n",
        "\n",
        "# 2. Обработка данных. Здесь нужно вычислить искомое значение и сохранить его в переменной.\n",
        "haircuts = {\"зима\": \"отращивает волосы\",\n",
        "    \"весна\": \"носит челку на сторону\",\n",
        "    \"лето\": \"стрижется налысо\",\n",
        "    \"осень\": \"носит короткую стрижку\"}\n",
        "\n",
        "# 3. Вывод результатов. Здесь нужно вывести вычисленное значение на экран.\n",
        "if season in haircuts:\n",
        "    print(\"Елисей\" ,haircuts[season],\".\")\n",
        "else:\n",
        "    print(\"Проверьте правильность написания времени года.\")"
      ]
    },
    {
      "cell_type": "markdown",
      "id": "24518817",
      "metadata": {
        "id": "24518817"
      },
      "source": [
        "# D - Задача на списки\n",
        "\n",
        "Нужно сформировать список  lst из 20 элементов случайным образом. Элементы списка должны быть в диапазоне [-50;50]. Выведите элементы списка на экран."
      ]
    },
    {
      "cell_type": "code",
      "execution_count": 28,
      "id": "6f3771f9",
      "metadata": {
        "id": "6f3771f9",
        "colab": {
          "base_uri": "https://localhost:8080/"
        },
        "outputId": "8a626171-4733-43c5-ab9b-a68c3698e450"
      },
      "outputs": [
        {
          "output_type": "stream",
          "name": "stdout",
          "text": [
            "[34, -25, 13, -4, -13, 3, 44, 28, -11, 10, -6, 32, -34, -13, 48, 23, 10, -18, 7, -47]\n"
          ]
        }
      ],
      "source": [
        "# Ваш код здесь\n",
        "import random\n",
        "lst = [random.randint(-50, 50) for _ in range(20)]\n",
        "print(lst)"
      ]
    },
    {
      "cell_type": "markdown",
      "id": "e285a34f",
      "metadata": {
        "id": "e285a34f"
      },
      "source": [
        "#### Задание 1: Найдите длину списка"
      ]
    },
    {
      "cell_type": "code",
      "execution_count": 31,
      "id": "537ac689",
      "metadata": {
        "id": "537ac689",
        "colab": {
          "base_uri": "https://localhost:8080/"
        },
        "outputId": "cf330fd5-646f-4b54-e5cb-696b4473ddc3"
      },
      "outputs": [
        {
          "output_type": "execute_result",
          "data": {
            "text/plain": [
              "20"
            ]
          },
          "metadata": {},
          "execution_count": 31
        }
      ],
      "source": [
        "# Ваш код здесь\n",
        "len (lst)"
      ]
    },
    {
      "cell_type": "markdown",
      "id": "04320240",
      "metadata": {
        "id": "04320240"
      },
      "source": [
        "#### Задание 2: Найдите максимальный и минимальный элемент списка"
      ]
    },
    {
      "cell_type": "code",
      "execution_count": 34,
      "id": "7fe0d79b",
      "metadata": {
        "id": "7fe0d79b",
        "colab": {
          "base_uri": "https://localhost:8080/"
        },
        "outputId": "31230a13-3b6d-4250-de1c-7105a12d6991"
      },
      "outputs": [
        {
          "output_type": "execute_result",
          "data": {
            "text/plain": [
              "48"
            ]
          },
          "metadata": {},
          "execution_count": 34
        }
      ],
      "source": [
        "# Ваш код здесь\n",
        "max(lst)"
      ]
    },
    {
      "cell_type": "code",
      "source": [
        "min(lst)"
      ],
      "metadata": {
        "colab": {
          "base_uri": "https://localhost:8080/"
        },
        "id": "S0ROTIlyjlQx",
        "outputId": "ef5ad46d-c01d-4547-d276-ecd8b9ca566e"
      },
      "id": "S0ROTIlyjlQx",
      "execution_count": 35,
      "outputs": [
        {
          "output_type": "execute_result",
          "data": {
            "text/plain": [
              "-47"
            ]
          },
          "metadata": {},
          "execution_count": 35
        }
      ]
    },
    {
      "cell_type": "markdown",
      "id": "6feef407",
      "metadata": {
        "id": "6feef407"
      },
      "source": [
        "#### Задание 3: Выведите список в обратном порядке"
      ]
    },
    {
      "cell_type": "code",
      "execution_count": 44,
      "id": "e01c6efd",
      "metadata": {
        "id": "e01c6efd",
        "colab": {
          "base_uri": "https://localhost:8080/"
        },
        "outputId": "a2e9d340-f312-4038-ac6f-52b3999c3fac"
      },
      "outputs": [
        {
          "output_type": "execute_result",
          "data": {
            "text/plain": [
              "[-47,\n",
              " 7,\n",
              " -18,\n",
              " 10,\n",
              " 23,\n",
              " 48,\n",
              " -13,\n",
              " -34,\n",
              " 32,\n",
              " -6,\n",
              " 10,\n",
              " -11,\n",
              " 28,\n",
              " 44,\n",
              " 3,\n",
              " -13,\n",
              " -4,\n",
              " 13,\n",
              " -25,\n",
              " 34]"
            ]
          },
          "metadata": {},
          "execution_count": 44
        }
      ],
      "source": [
        "# Ваш код здесь\n",
        "lst[::-1]"
      ]
    },
    {
      "cell_type": "markdown",
      "id": "8147fcea",
      "metadata": {
        "id": "8147fcea"
      },
      "source": [
        "\n",
        "\n",
        "#### Задание 4: Создайте копию списка в переменной mlst и отсортируйте список mlst по возрастанию"
      ]
    },
    {
      "cell_type": "code",
      "execution_count": 47,
      "id": "605a277a",
      "metadata": {
        "id": "605a277a",
        "colab": {
          "base_uri": "https://localhost:8080/"
        },
        "outputId": "2ba79162-1b20-4620-b73b-8a4d5b6414d5"
      },
      "outputs": [
        {
          "output_type": "stream",
          "name": "stdout",
          "text": [
            "[-47, -34, -25, -18, -13, -13, -11, -6, -4, 3, 7, 10, 10, 13, 23, 28, 32, 34, 44, 48]\n"
          ]
        }
      ],
      "source": [
        "# Ваш код здесь\n",
        "mlst = lst.copy()\n",
        "mlst.sort()\n",
        "print(mlst)"
      ]
    },
    {
      "cell_type": "markdown",
      "id": "a939a0f0",
      "metadata": {
        "id": "a939a0f0"
      },
      "source": [
        "#### Задание 5: Дано число K=7: Найдите сколько раз в списке встречается число K"
      ]
    },
    {
      "cell_type": "code",
      "execution_count": 51,
      "id": "4b21ff8a",
      "metadata": {
        "id": "4b21ff8a",
        "colab": {
          "base_uri": "https://localhost:8080/"
        },
        "outputId": "50c46a49-b76f-4195-bd81-14339cf27ca2"
      },
      "outputs": [
        {
          "output_type": "execute_result",
          "data": {
            "text/plain": [
              "1"
            ]
          },
          "metadata": {},
          "execution_count": 51
        }
      ],
      "source": [
        "# Ваш код здесь\n",
        "K = 7\n",
        "lst.count(K)"
      ]
    },
    {
      "cell_type": "markdown",
      "id": "d137bbf7",
      "metadata": {
        "id": "d137bbf7"
      },
      "source": [
        "#### Задание 6: Выведите элементы списка, которые заканчиваются на 4"
      ]
    },
    {
      "cell_type": "code",
      "execution_count": 58,
      "id": "87123500",
      "metadata": {
        "id": "87123500",
        "colab": {
          "base_uri": "https://localhost:8080/"
        },
        "outputId": "179e6a87-5f3b-494d-e935-b14404f0a298"
      },
      "outputs": [
        {
          "output_type": "execute_result",
          "data": {
            "text/plain": [
              "[34, 44, -6]"
            ]
          },
          "metadata": {},
          "execution_count": 58
        }
      ],
      "source": [
        "# Ваш код здесь\n",
        "[x for x in lst if x % 10 == 4]"
      ]
    },
    {
      "cell_type": "markdown",
      "id": "bf6c12f9",
      "metadata": {
        "id": "bf6c12f9"
      },
      "source": [
        "#### Задание 7: Найдите элемент списка, который ближе всего к среднему арифметическому элементов списка"
      ]
    },
    {
      "cell_type": "code",
      "execution_count": 65,
      "id": "b6ef7e81",
      "metadata": {
        "id": "b6ef7e81",
        "colab": {
          "base_uri": "https://localhost:8080/"
        },
        "outputId": "a5cc1343-4593-4831-dd87-499c9fe73119"
      },
      "outputs": [
        {
          "output_type": "stream",
          "name": "stdout",
          "text": [
            "81\n",
            "20\n",
            "4.05\n",
            "3\n"
          ]
        }
      ],
      "source": [
        "# Ваш код здесь\n",
        "print (sum(lst))\n",
        "print (len(lst))\n",
        "\n",
        "average = sum(lst) / len(lst)\n",
        "print (average)\n",
        "\n",
        "closest = min(lst, key=lambda x: abs(x - average))\n",
        "print (closest)"
      ]
    },
    {
      "cell_type": "markdown",
      "id": "ac00bc2c",
      "metadata": {
        "id": "ac00bc2c"
      },
      "source": [
        "# E - Задача на строки\n",
        "\n",
        "Пользователь вводит с клавиатуры строку."
      ]
    },
    {
      "cell_type": "code",
      "execution_count": 67,
      "id": "08bd814c",
      "metadata": {
        "id": "08bd814c",
        "colab": {
          "base_uri": "https://localhost:8080/"
        },
        "outputId": "7825fb3b-abd7-4d58-89ab-e0867ec07e89"
      },
      "outputs": [
        {
          "name": "stdout",
          "output_type": "stream",
          "text": [
            "Введите строку: Молюсь оконному лучу.\n"
          ]
        }
      ],
      "source": [
        "# Ваш код здесь\n",
        "task = input(\"Введите строку: \")"
      ]
    },
    {
      "cell_type": "markdown",
      "id": "3dcbe5d4",
      "metadata": {
        "id": "3dcbe5d4"
      },
      "source": [
        "#### Задание 1: Найдите длину строки"
      ]
    },
    {
      "cell_type": "code",
      "execution_count": 73,
      "id": "833a0d64",
      "metadata": {
        "id": "833a0d64",
        "colab": {
          "base_uri": "https://localhost:8080/"
        },
        "outputId": "6c25d588-17e2-49bc-b007-4e6d2b2a4f2c"
      },
      "outputs": [
        {
          "output_type": "execute_result",
          "data": {
            "text/plain": [
              "21"
            ]
          },
          "metadata": {},
          "execution_count": 73
        }
      ],
      "source": [
        "# Ваш код здесь\n",
        "len(task)"
      ]
    },
    {
      "cell_type": "markdown",
      "id": "ab46b21b",
      "metadata": {
        "id": "ab46b21b"
      },
      "source": [
        "#### Задание 2: Найдите количество пробелов в строке"
      ]
    },
    {
      "cell_type": "code",
      "execution_count": 98,
      "id": "5fe59e6a",
      "metadata": {
        "id": "5fe59e6a",
        "colab": {
          "base_uri": "https://localhost:8080/"
        },
        "outputId": "3f5b7b9b-c327-4c73-aec3-24c14b971192"
      },
      "outputs": [
        {
          "output_type": "execute_result",
          "data": {
            "text/plain": [
              "2"
            ]
          },
          "metadata": {},
          "execution_count": 98
        }
      ],
      "source": [
        "# Ваш код здесь\n",
        "task.count(\" \")"
      ]
    },
    {
      "cell_type": "markdown",
      "id": "515eeef9",
      "metadata": {
        "id": "515eeef9"
      },
      "source": [
        "#### Задание 3: Выведите строку в обратном порядке"
      ]
    },
    {
      "cell_type": "code",
      "execution_count": 75,
      "id": "2dc16110",
      "metadata": {
        "id": "2dc16110",
        "colab": {
          "base_uri": "https://localhost:8080/",
          "height": 35
        },
        "outputId": "1c9cdf92-1d6d-4b51-cac2-c85386231f15"
      },
      "outputs": [
        {
          "output_type": "execute_result",
          "data": {
            "text/plain": [
              "'.учул умонноко ьсюлоМ'"
            ],
            "application/vnd.google.colaboratory.intrinsic+json": {
              "type": "string"
            }
          },
          "metadata": {},
          "execution_count": 75
        }
      ],
      "source": [
        "# Ваш код здесь\n",
        "task[::-1]"
      ]
    },
    {
      "cell_type": "markdown",
      "id": "ca7c9281",
      "metadata": {
        "id": "ca7c9281"
      },
      "source": [
        "#### Задание 4: Выведите всю строку, кроме первых двух символов"
      ]
    },
    {
      "cell_type": "code",
      "execution_count": 76,
      "id": "f9bb0aa7",
      "metadata": {
        "id": "f9bb0aa7",
        "colab": {
          "base_uri": "https://localhost:8080/",
          "height": 35
        },
        "outputId": "1feda802-2c32-43f2-d683-12bc4ac55080"
      },
      "outputs": [
        {
          "output_type": "execute_result",
          "data": {
            "text/plain": [
              "'люсь оконному лучу.'"
            ],
            "application/vnd.google.colaboratory.intrinsic+json": {
              "type": "string"
            }
          },
          "metadata": {},
          "execution_count": 76
        }
      ],
      "source": [
        "# Ваш код здесь\n",
        "task[2:]"
      ]
    },
    {
      "cell_type": "markdown",
      "id": "44a54853",
      "metadata": {
        "id": "44a54853"
      },
      "source": [
        "#### Задание 5: Выведите предпоследний символ этой строки"
      ]
    },
    {
      "cell_type": "code",
      "execution_count": 77,
      "id": "824793f4",
      "metadata": {
        "id": "824793f4",
        "colab": {
          "base_uri": "https://localhost:8080/",
          "height": 35
        },
        "outputId": "c5bce7d7-b63c-4bd8-ce0d-bab9a7052143"
      },
      "outputs": [
        {
          "output_type": "execute_result",
          "data": {
            "text/plain": [
              "'у'"
            ],
            "application/vnd.google.colaboratory.intrinsic+json": {
              "type": "string"
            }
          },
          "metadata": {},
          "execution_count": 77
        }
      ],
      "source": [
        "# Ваш код здесь\n",
        "task[-2]"
      ]
    },
    {
      "cell_type": "markdown",
      "id": "bce135de",
      "metadata": {
        "id": "bce135de"
      },
      "source": [
        "#### Задание 6: Найдите количество слов в строке (слово это последовательность непробельных символов)"
      ]
    },
    {
      "cell_type": "code",
      "execution_count": 78,
      "id": "915fff2f",
      "metadata": {
        "id": "915fff2f",
        "colab": {
          "base_uri": "https://localhost:8080/"
        },
        "outputId": "f1fe89d6-121a-401d-dd6d-36e3c1c56bd1"
      },
      "outputs": [
        {
          "output_type": "execute_result",
          "data": {
            "text/plain": [
              "3"
            ]
          },
          "metadata": {},
          "execution_count": 78
        }
      ],
      "source": [
        "# Ваш код здесь\n",
        "len(task.split())"
      ]
    },
    {
      "cell_type": "markdown",
      "id": "1691e115",
      "metadata": {
        "id": "1691e115"
      },
      "source": [
        "#### Задание 7: Разделите строку на части используя пробел как разделитель и сохраните результат в списке slst"
      ]
    },
    {
      "cell_type": "code",
      "execution_count": 80,
      "id": "2930441a",
      "metadata": {
        "id": "2930441a",
        "colab": {
          "base_uri": "https://localhost:8080/"
        },
        "outputId": "92a3ec52-9a3c-4728-9043-a5ec2c477f6a"
      },
      "outputs": [
        {
          "output_type": "stream",
          "name": "stdout",
          "text": [
            "['Молюсь', 'оконному', 'лучу.']\n"
          ]
        }
      ],
      "source": [
        "# Ваш код здесь\n",
        "slst = task.split()\n",
        "print (slst)"
      ]
    },
    {
      "cell_type": "markdown",
      "id": "72a91e4c",
      "metadata": {
        "id": "72a91e4c"
      },
      "source": [
        "#### Задание 8: Пользователь вводит с клавиатуры символ. Его нужно сохранить в переменной С: Встречается ли этот символ в строке"
      ]
    },
    {
      "cell_type": "code",
      "execution_count": 90,
      "id": "b111f138",
      "metadata": {
        "id": "b111f138",
        "colab": {
          "base_uri": "https://localhost:8080/"
        },
        "outputId": "9b93ec39-81b0-4cba-f4e3-658f736ee5e9"
      },
      "outputs": [
        {
          "name": "stdout",
          "output_type": "stream",
          "text": [
            "Введите символ: у\n"
          ]
        },
        {
          "output_type": "execute_result",
          "data": {
            "text/plain": [
              "True"
            ]
          },
          "metadata": {},
          "execution_count": 90
        }
      ],
      "source": [
        "# Ваш код здесь\n",
        "symbol = input(\"Введите символ: \")\n",
        "symbol in task"
      ]
    },
    {
      "cell_type": "markdown",
      "id": "c1f1cdb8",
      "metadata": {
        "id": "c1f1cdb8"
      },
      "source": [
        "#### Задание 9: Найдите количество символов # в строке"
      ]
    },
    {
      "cell_type": "code",
      "execution_count": 97,
      "id": "06f78749",
      "metadata": {
        "id": "06f78749",
        "colab": {
          "base_uri": "https://localhost:8080/"
        },
        "outputId": "33a9c530-fb6a-4bc3-88cf-c64312a7aef0"
      },
      "outputs": [
        {
          "output_type": "execute_result",
          "data": {
            "text/plain": [
              "0"
            ]
          },
          "metadata": {},
          "execution_count": 97
        }
      ],
      "source": [
        "# Ваш код здесь\n",
        "task.count(\"#\")"
      ]
    },
    {
      "cell_type": "markdown",
      "id": "03e8e0e8",
      "metadata": {
        "id": "03e8e0e8"
      },
      "source": [
        "#### Задание 10: Сформируйте новую строку, в которую поместите все прописные буквы из исходной строки"
      ]
    },
    {
      "cell_type": "code",
      "execution_count": 96,
      "id": "0a80cb6e",
      "metadata": {
        "id": "0a80cb6e",
        "colab": {
          "base_uri": "https://localhost:8080/",
          "height": 35
        },
        "outputId": "2ff1f35b-5420-42c7-a39f-61002bb17c99"
      },
      "outputs": [
        {
          "output_type": "execute_result",
          "data": {
            "text/plain": [
              "'М'"
            ],
            "application/vnd.google.colaboratory.intrinsic+json": {
              "type": "string"
            }
          },
          "metadata": {},
          "execution_count": 96
        }
      ],
      "source": [
        "# Ваш код здесь\n",
        "\" \".join (char for char in task if char.isupper())"
      ]
    }
  ],
  "metadata": {
    "colab": {
      "provenance": []
    },
    "language_info": {
      "name": "python"
    },
    "kernelspec": {
      "name": "python3",
      "display_name": "Python 3"
    }
  },
  "nbformat": 4,
  "nbformat_minor": 5
}