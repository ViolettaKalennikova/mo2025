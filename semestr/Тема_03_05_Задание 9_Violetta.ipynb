{
  "cells": [
    {
      "cell_type": "markdown",
      "id": "8cf68337",
      "metadata": {
        "id": "8cf68337"
      },
      "source": [
        "## Задание 1.\n",
        "\n",
        "Прочитать данные\n",
        "`https://raw.githubusercontent.com/yakushinav/omo/main/data/movies.csv`\n",
        "\n",
        "Имена столбцов\n",
        "```\n",
        "['color', 'director_name', 'num_critic_for_reviews', 'duration',\n",
        "                'gross', 'movie_title', 'num_user_for_reviews', 'country',\n",
        "                'cotent_rating', 'budget', 'title_year', 'imdb_score', 'genre']\n",
        "```"
      ]
    },
    {
      "cell_type": "code",
      "source": [
        "import pandas as pd"
      ],
      "metadata": {
        "id": "yxh1S1BadSDE"
      },
      "id": "yxh1S1BadSDE",
      "execution_count": 5,
      "outputs": []
    },
    {
      "cell_type": "code",
      "source": [
        "csv_url = \"https://raw.githubusercontent.com/yakushinav/omo/main/data/movies.csv\"\n",
        "columns=['color', 'director_name', 'num_critic_for_reviews', 'duration',\n",
        "                'gross', 'movie_title', 'num_user_for_reviews', 'country',\n",
        "                'cotent_rating', 'budget', 'title_year', 'imdb_score', 'genre']\n",
        "df = pd.read_csv(csv_url,sep=\"|\", header=None, names=columns,\n",
        "                 na_values=['', '?', '-'], thousands=',')\n",
        "print(df.head())\n",
        "print(df.info())"
      ],
      "metadata": {
        "colab": {
          "base_uri": "https://localhost:8080/"
        },
        "id": "AYxDwrOudTRH",
        "outputId": "d1889568-1624-459f-ddab-317e04a8d8ce"
      },
      "id": "AYxDwrOudTRH",
      "execution_count": 26,
      "outputs": [
        {
          "output_type": "stream",
          "name": "stdout",
          "text": [
            "   color      director_name  num_critic_for_reviews  duration        gross  \\\n",
            "0  Color      James Cameron                   723.0     178.0  760505847.0   \n",
            "1  Color     Gore Verbinski                   302.0     169.0  309404152.0   \n",
            "2  Color         Sam Mendes                   602.0     148.0  200074175.0   \n",
            "3  Color  Christopher Nolan                   813.0     164.0  448130642.0   \n",
            "4    NaN        Doug Walker                     NaN       NaN          NaN   \n",
            "\n",
            "                                         movie_title  num_user_for_reviews  \\\n",
            "0                                            Avatar                 3054.0   \n",
            "1          Pirates of the Caribbean: At World's End                 1238.0   \n",
            "2                                           Spectre                  994.0   \n",
            "3                             The Dark Knight Rises                 2701.0   \n",
            "4  Star Wars: Episode VII - The Force Awakens    ...                   NaN   \n",
            "\n",
            "  country cotent_rating       budget  title_year  imdb_score        genre  \n",
            "0     USA         PG-13  237000000.0      2009.0         7.9       Action  \n",
            "1     USA         PG-13  300000000.0      2007.0         7.1       Action  \n",
            "2      UK         PG-13  245000000.0      2015.0         6.8       Action  \n",
            "3     USA         PG-13  250000000.0      2012.0         8.5       Action  \n",
            "4     NaN           NaN          NaN         NaN         7.1  Documentary  \n",
            "<class 'pandas.core.frame.DataFrame'>\n",
            "RangeIndex: 100 entries, 0 to 99\n",
            "Data columns (total 13 columns):\n",
            " #   Column                  Non-Null Count  Dtype  \n",
            "---  ------                  --------------  -----  \n",
            " 0   color                   99 non-null     object \n",
            " 1   director_name           100 non-null    object \n",
            " 2   num_critic_for_reviews  99 non-null     float64\n",
            " 3   duration                99 non-null     float64\n",
            " 4   gross                   97 non-null     float64\n",
            " 5   movie_title             100 non-null    object \n",
            " 6   num_user_for_reviews    99 non-null     float64\n",
            " 7   country                 99 non-null     object \n",
            " 8   cotent_rating           98 non-null     object \n",
            " 9   budget                  96 non-null     float64\n",
            " 10  title_year              99 non-null     float64\n",
            " 11  imdb_score              100 non-null    float64\n",
            " 12  genre                   100 non-null    object \n",
            "dtypes: float64(7), object(6)\n",
            "memory usage: 10.3+ KB\n",
            "None\n"
          ]
        }
      ]
    },
    {
      "cell_type": "markdown",
      "id": "161f36f5",
      "metadata": {
        "id": "161f36f5"
      },
      "source": [
        "## Задание 2\n",
        "\n",
        "Прочитать данные `https://raw.githubusercontent.com/yakushinav/omo/main/data/playstore.xlsx`.\n",
        "\n",
        "Для столбца `Last_Updated` установить формат `дата_и_время`."
      ]
    },
    {
      "cell_type": "code",
      "execution_count": null,
      "id": "c6e1d0b3",
      "metadata": {
        "id": "c6e1d0b3"
      },
      "outputs": [],
      "source": []
    },
    {
      "cell_type": "markdown",
      "id": "7fd01ac2",
      "metadata": {
        "id": "7fd01ac2"
      },
      "source": [
        "## Задание 3\n",
        "\n",
        "Прочитать данные `https://raw.githubusercontent.com/yakushinav/omo/main/data/artists.json`.\n",
        "\n",
        "Выполнить сохранение в формат CSV. Прочитать полученный файл. Сравнить с исходным.\n"
      ]
    },
    {
      "cell_type": "code",
      "execution_count": null,
      "id": "f47b3c1c",
      "metadata": {
        "id": "f47b3c1c"
      },
      "outputs": [],
      "source": []
    }
  ],
  "metadata": {
    "kernelspec": {
      "display_name": "Python 3 (ipykernel)",
      "language": "python",
      "name": "python3"
    },
    "language_info": {
      "codemirror_mode": {
        "name": "ipython",
        "version": 3
      },
      "file_extension": ".py",
      "mimetype": "text/x-python",
      "name": "python",
      "nbconvert_exporter": "python",
      "pygments_lexer": "ipython3",
      "version": "3.9.13"
    },
    "colab": {
      "provenance": []
    }
  },
  "nbformat": 4,
  "nbformat_minor": 5
}