{
  "cells": [
    {
      "cell_type": "markdown",
      "id": "3402ff55",
      "metadata": {
        "id": "3402ff55"
      },
      "source": [
        "# 06 Списки (Lists)\n",
        "\n",
        "Списки - это наиболее общая версия последовательностей в Python. В отличие от строк, списки можно менять - элементы внутри списка можно менять!\n",
        "\n",
        "Мы изучим следующие темы:\n",
        "    \n",
        "    1) Создание списков\n",
        "    2) Индексирование списков и разбиение их на части\n",
        "    3) Основные методы для списков\n",
        "    4) Вложенные списки\n",
        "    5) Введение в генераторы списков (List Comprehensions)\n",
        "\n",
        "Списки создаются с помощью скобок [ ], элементы списка отделяются друг от друга запятыми.\n",
        "\n",
        "Давайте посмотрим, как можно создавать списки!"
      ]
    },
    {
      "cell_type": "code",
      "source": [
        "lst=[2,3,4,5,6,7,8,9,2,3,4,5,6]\n",
        "print (lst)\n",
        "lst.append (9)\n",
        "print (lst)\n",
        "print (max(lst))\n",
        "print (min(lst))\n",
        "print (sum(lst))\n",
        "print (len(lst))\n",
        "print (sum(lst)/len(lst))\n",
        "\n",
        "lst=sorted(lst)\n",
        "print (lst)\n",
        "\n",
        "print (4 in lst)\n",
        "\n",
        "for k in range (1,11):\n",
        "    print (k,lst.count(k))"
      ],
      "metadata": {
        "colab": {
          "base_uri": "https://localhost:8080/"
        },
        "id": "8qEDqEkH5h4x",
        "outputId": "2d14e0af-9b0a-444a-e910-6cddfd851da6"
      },
      "id": "8qEDqEkH5h4x",
      "execution_count": null,
      "outputs": [
        {
          "output_type": "stream",
          "name": "stdout",
          "text": [
            "[2, 3, 4, 5, 6, 7, 8, 9, 2, 3, 4, 5, 6]\n",
            "[2, 3, 4, 5, 6, 7, 8, 9, 2, 3, 4, 5, 6, 9]\n",
            "9\n",
            "2\n",
            "73\n",
            "14\n",
            "5.214285714285714\n",
            "[2, 2, 3, 3, 4, 4, 5, 5, 6, 6, 7, 8, 9, 9]\n",
            "True\n",
            "1 0\n",
            "2 2\n",
            "3 2\n",
            "4 2\n",
            "5 2\n",
            "6 2\n",
            "7 1\n",
            "8 1\n",
            "9 2\n",
            "10 0\n"
          ]
        }
      ]
    },
    {
      "cell_type": "code",
      "source": [
        "dt = {\"f\":2, \"t\":4}\n",
        "print (dt)\n",
        "print (dt[\"f\"])\n",
        "\n",
        "student={'name':\"Alex\", \"surname\": \"Ivanov\"}\n",
        "print (student)"
      ],
      "metadata": {
        "colab": {
          "base_uri": "https://localhost:8080/"
        },
        "id": "t9wwyoPh8y5O",
        "outputId": "af60efea-6165-44e4-d0b6-64b42536c543"
      },
      "id": "t9wwyoPh8y5O",
      "execution_count": 2,
      "outputs": [
        {
          "output_type": "stream",
          "name": "stdout",
          "text": [
            "{'f': 2, 't': 4}\n",
            "2\n",
            "{'name': 'Alex', 'surname': 'Ivanov'}\n"
          ]
        }
      ]
    },
    {
      "cell_type": "code",
      "execution_count": null,
      "id": "280aa4eb",
      "metadata": {
        "id": "280aa4eb"
      },
      "outputs": [],
      "source": [
        "# Присвоить переменной my_list список\n",
        "my_list = [1,2,3]"
      ]
    },
    {
      "cell_type": "markdown",
      "id": "6ec8e2d7",
      "metadata": {
        "id": "6ec8e2d7"
      },
      "source": [
        "Мы создали список целых чисел, но на самом деле списки могут содержать элементы разных типов. Например:"
      ]
    },
    {
      "cell_type": "code",
      "execution_count": 4,
      "id": "80960b76",
      "metadata": {
        "id": "80960b76",
        "colab": {
          "base_uri": "https://localhost:8080/"
        },
        "outputId": "92532578-16f9-4585-8bf2-daeae10a5f62"
      },
      "outputs": [
        {
          "output_type": "stream",
          "name": "stdout",
          "text": [
            "['A string', 23, 100.232, 'o']\n"
          ]
        }
      ],
      "source": [
        "my_list = ['A string',23,100.232,'o']\n",
        "print (my_list)"
      ]
    },
    {
      "cell_type": "markdown",
      "id": "d07f74bc",
      "metadata": {
        "id": "d07f74bc"
      },
      "source": [
        "Как и для строк, узнать количество элементов в списке можно с помощью функции len()."
      ]
    },
    {
      "cell_type": "code",
      "execution_count": 5,
      "id": "40eef44e",
      "metadata": {
        "id": "40eef44e",
        "colab": {
          "base_uri": "https://localhost:8080/"
        },
        "outputId": "d3f59a82-f1e5-4b56-b3c9-d0ff7c93c758"
      },
      "outputs": [
        {
          "output_type": "execute_result",
          "data": {
            "text/plain": [
              "4"
            ]
          },
          "metadata": {},
          "execution_count": 5
        }
      ],
      "source": [
        "len(my_list)"
      ]
    },
    {
      "cell_type": "markdown",
      "id": "0da47673",
      "metadata": {
        "id": "0da47673"
      },
      "source": [
        "### Индексирование и разбиение на части\n",
        "Индексирование и разбиение на части работает точно так же, как и для строк. Давайте создадим новый список и напомним себе, как это работает:"
      ]
    },
    {
      "cell_type": "code",
      "execution_count": null,
      "id": "61c4ac37",
      "metadata": {
        "id": "61c4ac37"
      },
      "outputs": [],
      "source": [
        "my_list = ['one','two','three',4,5]"
      ]
    },
    {
      "cell_type": "code",
      "execution_count": 6,
      "id": "2b689dea",
      "metadata": {
        "id": "2b689dea",
        "colab": {
          "base_uri": "https://localhost:8080/",
          "height": 35
        },
        "outputId": "0b85a123-ce05-48b7-c834-f2bd0e462cb8"
      },
      "outputs": [
        {
          "output_type": "execute_result",
          "data": {
            "text/plain": [
              "'A string'"
            ],
            "application/vnd.google.colaboratory.intrinsic+json": {
              "type": "string"
            }
          },
          "metadata": {},
          "execution_count": 6
        }
      ],
      "source": [
        "# Берём элемент на позиции 0\n",
        "my_list[0]"
      ]
    },
    {
      "cell_type": "code",
      "execution_count": 7,
      "id": "4ec9950b",
      "metadata": {
        "id": "4ec9950b",
        "colab": {
          "base_uri": "https://localhost:8080/"
        },
        "outputId": "b07cadd9-177e-4052-97d0-2c92ecf43421"
      },
      "outputs": [
        {
          "output_type": "execute_result",
          "data": {
            "text/plain": [
              "[23, 100.232, 'o']"
            ]
          },
          "metadata": {},
          "execution_count": 7
        }
      ],
      "source": [
        "# Берём позицию 1 и всё что после нее\n",
        "my_list[1:]"
      ]
    },
    {
      "cell_type": "code",
      "execution_count": 8,
      "id": "4fa75f83",
      "metadata": {
        "id": "4fa75f83",
        "colab": {
          "base_uri": "https://localhost:8080/"
        },
        "outputId": "b50c9d9e-6856-4112-bd5f-04c301779bc4"
      },
      "outputs": [
        {
          "output_type": "execute_result",
          "data": {
            "text/plain": [
              "['A string', 23, 100.232]"
            ]
          },
          "metadata": {},
          "execution_count": 8
        }
      ],
      "source": [
        "# Берём всё ДО позиции 3\n",
        "my_list[:3]"
      ]
    },
    {
      "cell_type": "markdown",
      "id": "055e5cb6",
      "metadata": {
        "id": "055e5cb6"
      },
      "source": [
        "Как и для строк, для списков можно использовать + для конкатенации списков."
      ]
    },
    {
      "cell_type": "code",
      "execution_count": 9,
      "id": "a861e389",
      "metadata": {
        "id": "a861e389",
        "colab": {
          "base_uri": "https://localhost:8080/"
        },
        "outputId": "bd70bf2e-7245-45b5-a4c2-d0b8313963f2"
      },
      "outputs": [
        {
          "output_type": "execute_result",
          "data": {
            "text/plain": [
              "['A string', 23, 100.232, 'o', 'new item']"
            ]
          },
          "metadata": {},
          "execution_count": 9
        }
      ],
      "source": [
        "my_list + ['new item']"
      ]
    },
    {
      "cell_type": "markdown",
      "id": "5dcf17b1",
      "metadata": {
        "id": "5dcf17b1"
      },
      "source": [
        "Обратите внимание: сам список my_list при этом не поменялся!"
      ]
    },
    {
      "cell_type": "code",
      "execution_count": 10,
      "id": "a129182f",
      "metadata": {
        "id": "a129182f",
        "colab": {
          "base_uri": "https://localhost:8080/"
        },
        "outputId": "6d534e50-8ebb-4dff-c5a8-2ef0ce144245"
      },
      "outputs": [
        {
          "output_type": "execute_result",
          "data": {
            "text/plain": [
              "['A string', 23, 100.232, 'o']"
            ]
          },
          "metadata": {},
          "execution_count": 10
        }
      ],
      "source": [
        "my_list"
      ]
    },
    {
      "cell_type": "markdown",
      "id": "a535b37e",
      "metadata": {
        "id": "a535b37e"
      },
      "source": [
        "Если нужно поменять изначальный список, то можно переопределить список."
      ]
    },
    {
      "cell_type": "code",
      "execution_count": 12,
      "id": "96e31769",
      "metadata": {
        "id": "96e31769"
      },
      "outputs": [],
      "source": [
        "# Указываем новое значение\n",
        "my_list = my_list + ['add new item permanently']"
      ]
    },
    {
      "cell_type": "code",
      "execution_count": 13,
      "id": "1ca93caf",
      "metadata": {
        "id": "1ca93caf",
        "colab": {
          "base_uri": "https://localhost:8080/"
        },
        "outputId": "c6395736-01a5-41f5-c4fc-0e63c66275ae"
      },
      "outputs": [
        {
          "output_type": "execute_result",
          "data": {
            "text/plain": [
              "['A string',\n",
              " 23,\n",
              " 100.232,\n",
              " 'o',\n",
              " 'add new item permanently',\n",
              " 'add new item permanently']"
            ]
          },
          "metadata": {},
          "execution_count": 13
        }
      ],
      "source": [
        "my_list"
      ]
    },
    {
      "cell_type": "markdown",
      "id": "6d37363e",
      "metadata": {
        "id": "6d37363e"
      },
      "source": [
        "Также можно использовать * для дублирования, как и для строк:"
      ]
    },
    {
      "cell_type": "code",
      "execution_count": 14,
      "id": "ffe30789",
      "metadata": {
        "id": "ffe30789",
        "colab": {
          "base_uri": "https://localhost:8080/"
        },
        "outputId": "0007da12-0bd8-4cc2-ffcc-cabae3f43b5f"
      },
      "outputs": [
        {
          "output_type": "execute_result",
          "data": {
            "text/plain": [
              "['A string',\n",
              " 23,\n",
              " 100.232,\n",
              " 'o',\n",
              " 'add new item permanently',\n",
              " 'add new item permanently',\n",
              " 'A string',\n",
              " 23,\n",
              " 100.232,\n",
              " 'o',\n",
              " 'add new item permanently',\n",
              " 'add new item permanently']"
            ]
          },
          "metadata": {},
          "execution_count": 14
        }
      ],
      "source": [
        "# Make the list double\n",
        "my_list * 2"
      ]
    },
    {
      "cell_type": "code",
      "execution_count": 15,
      "id": "069d9dcf",
      "metadata": {
        "id": "069d9dcf",
        "colab": {
          "base_uri": "https://localhost:8080/"
        },
        "outputId": "8fe11e69-c5f3-4cfd-f2f1-64c39f642b86"
      },
      "outputs": [
        {
          "output_type": "execute_result",
          "data": {
            "text/plain": [
              "['A string',\n",
              " 23,\n",
              " 100.232,\n",
              " 'o',\n",
              " 'add new item permanently',\n",
              " 'add new item permanently']"
            ]
          },
          "metadata": {},
          "execution_count": 15
        }
      ],
      "source": [
        "# Опять же, это не затрагивает изначальный список\n",
        "my_list"
      ]
    },
    {
      "cell_type": "markdown",
      "id": "71f9e0ec",
      "metadata": {
        "id": "71f9e0ec"
      },
      "source": [
        "## Основные методы для списков\n",
        "\n",
        "Если Вы знаете другие языки программирования, то можете провести параллели между массивами в других языках и списками в Python. Однако списки в Python более гибкие, чем массивы в других языках, по двум причинам: у них нет фиксированного размера (то есть нам не нужно указывать, насколько большим будет список), и они не ограничивают типы объектов (как мы видели выше).\n",
        "\n",
        "Давайте посмотрим некоторые методы, специфичные для списков:"
      ]
    },
    {
      "cell_type": "code",
      "execution_count": 17,
      "id": "48db43bb",
      "metadata": {
        "id": "48db43bb"
      },
      "outputs": [],
      "source": [
        "# Создаем новый список\n",
        "list1 = [1,2,3]"
      ]
    },
    {
      "cell_type": "markdown",
      "id": "0eca3c02",
      "metadata": {
        "id": "0eca3c02"
      },
      "source": [
        "Метод **append** добавляет новый элемент в конец списка:"
      ]
    },
    {
      "cell_type": "code",
      "execution_count": 19,
      "id": "4bd053e1",
      "metadata": {
        "id": "4bd053e1"
      },
      "outputs": [],
      "source": [
        "# Append\n",
        "list1.append('append me!')"
      ]
    },
    {
      "cell_type": "code",
      "execution_count": 20,
      "id": "f8ea2f26",
      "metadata": {
        "id": "f8ea2f26",
        "colab": {
          "base_uri": "https://localhost:8080/"
        },
        "outputId": "ccc6979a-bd2b-4355-c54e-897a9022dd68"
      },
      "outputs": [
        {
          "output_type": "execute_result",
          "data": {
            "text/plain": [
              "[1, 2, 3, 'append me!', 'append me!']"
            ]
          },
          "metadata": {},
          "execution_count": 20
        }
      ],
      "source": [
        "# Проверка\n",
        "list1"
      ]
    },
    {
      "cell_type": "markdown",
      "id": "b7b8a82e",
      "metadata": {
        "id": "b7b8a82e"
      },
      "source": [
        "Метод **pop** \"вынимает\" элемент из списка. По умолчанию вынимается последний элемент, но Вы также можете указать позицию, с которой нужно вынуть элемент. Рассмотрим пример:"
      ]
    },
    {
      "cell_type": "code",
      "execution_count": 21,
      "id": "5af84bbe",
      "metadata": {
        "id": "5af84bbe",
        "colab": {
          "base_uri": "https://localhost:8080/"
        },
        "outputId": "cefa61d3-f5e8-4383-c98f-5579dbdcd78a"
      },
      "outputs": [
        {
          "output_type": "execute_result",
          "data": {
            "text/plain": [
              "1"
            ]
          },
          "metadata": {},
          "execution_count": 21
        }
      ],
      "source": [
        "# Вынимаем элемент на позиции 0\n",
        "list1.pop(0)"
      ]
    },
    {
      "cell_type": "code",
      "execution_count": 22,
      "id": "ef54bb6b",
      "metadata": {
        "id": "ef54bb6b",
        "colab": {
          "base_uri": "https://localhost:8080/"
        },
        "outputId": "563410cb-43dd-44ab-a9b8-e6f44d4b9916"
      },
      "outputs": [
        {
          "output_type": "execute_result",
          "data": {
            "text/plain": [
              "[2, 3, 'append me!', 'append me!']"
            ]
          },
          "metadata": {},
          "execution_count": 22
        }
      ],
      "source": [
        "# Проверка\n",
        "list1"
      ]
    },
    {
      "cell_type": "code",
      "execution_count": 23,
      "id": "b3341ac1",
      "metadata": {
        "id": "b3341ac1"
      },
      "outputs": [],
      "source": [
        "# Сохраняем вынимаемый элемент в отдельной переменной.\n",
        "# Помните, по умолчанию вынимаем последний элемент в списке (индекс -1)\n",
        "popped_item = list1.pop()"
      ]
    },
    {
      "cell_type": "code",
      "execution_count": 24,
      "id": "eb91a64b",
      "metadata": {
        "id": "eb91a64b",
        "colab": {
          "base_uri": "https://localhost:8080/",
          "height": 35
        },
        "outputId": "8a3a2c40-fe4f-425f-dbb7-178733a58f7d"
      },
      "outputs": [
        {
          "output_type": "execute_result",
          "data": {
            "text/plain": [
              "'append me!'"
            ],
            "application/vnd.google.colaboratory.intrinsic+json": {
              "type": "string"
            }
          },
          "metadata": {},
          "execution_count": 24
        }
      ],
      "source": [
        "popped_item"
      ]
    },
    {
      "cell_type": "code",
      "execution_count": 25,
      "id": "263cc06d",
      "metadata": {
        "id": "263cc06d",
        "colab": {
          "base_uri": "https://localhost:8080/"
        },
        "outputId": "a7104314-5a95-4861-cfc0-412563c322ad"
      },
      "outputs": [
        {
          "output_type": "execute_result",
          "data": {
            "text/plain": [
              "[2, 3, 'append me!']"
            ]
          },
          "metadata": {},
          "execution_count": 25
        }
      ],
      "source": [
        "# Проверка\n",
        "list1"
      ]
    },
    {
      "cell_type": "markdown",
      "id": "ce78c1aa",
      "metadata": {
        "id": "ce78c1aa"
      },
      "source": [
        "Также следует сказать, что обращение по несуществующему номеру индекса выдаст ошибку, если такого элемента нет. Например:"
      ]
    },
    {
      "cell_type": "code",
      "execution_count": 26,
      "id": "bcabca77",
      "metadata": {
        "id": "bcabca77",
        "colab": {
          "base_uri": "https://localhost:8080/",
          "height": 141
        },
        "outputId": "83fc9365-25b6-44ba-c040-c5a3fdac09cb"
      },
      "outputs": [
        {
          "output_type": "error",
          "ename": "IndexError",
          "evalue": "list index out of range",
          "traceback": [
            "\u001b[0;31m---------------------------------------------------------------------------\u001b[0m",
            "\u001b[0;31mIndexError\u001b[0m                                Traceback (most recent call last)",
            "\u001b[0;32m<ipython-input-26-af6d2015fa1f>\u001b[0m in \u001b[0;36m<cell line: 0>\u001b[0;34m()\u001b[0m\n\u001b[0;32m----> 1\u001b[0;31m \u001b[0mlist1\u001b[0m\u001b[0;34m[\u001b[0m\u001b[0;36m100\u001b[0m\u001b[0;34m]\u001b[0m\u001b[0;34m\u001b[0m\u001b[0;34m\u001b[0m\u001b[0m\n\u001b[0m",
            "\u001b[0;31mIndexError\u001b[0m: list index out of range"
          ]
        }
      ],
      "source": [
        "list1[100]"
      ]
    },
    {
      "cell_type": "markdown",
      "id": "dd21a2b5",
      "metadata": {
        "id": "dd21a2b5"
      },
      "source": [
        "Мы также можем использовать методы **sort** и **reverse** для сортировки списков:"
      ]
    },
    {
      "cell_type": "code",
      "execution_count": 27,
      "id": "5acdf274",
      "metadata": {
        "id": "5acdf274"
      },
      "outputs": [],
      "source": [
        "new_list = ['a','e','x','b','c']"
      ]
    },
    {
      "cell_type": "code",
      "execution_count": 28,
      "id": "c40988ba",
      "metadata": {
        "id": "c40988ba",
        "colab": {
          "base_uri": "https://localhost:8080/"
        },
        "outputId": "e8868ce9-6c31-4c5a-a91e-63e4b23d1f66"
      },
      "outputs": [
        {
          "output_type": "execute_result",
          "data": {
            "text/plain": [
              "['a', 'e', 'x', 'b', 'c']"
            ]
          },
          "metadata": {},
          "execution_count": 28
        }
      ],
      "source": [
        "# проверка\n",
        "new_list"
      ]
    },
    {
      "cell_type": "code",
      "execution_count": 32,
      "id": "2b24d3b8",
      "metadata": {
        "id": "2b24d3b8"
      },
      "outputs": [],
      "source": [
        "# Используем reverse для обратной сортировки (изменения сохраняются в списке!)\n",
        "new_list.reverse()"
      ]
    },
    {
      "cell_type": "code",
      "execution_count": 33,
      "id": "57ba6fc1",
      "metadata": {
        "id": "57ba6fc1",
        "colab": {
          "base_uri": "https://localhost:8080/"
        },
        "outputId": "ae67ebf8-6ca3-4b6b-eab8-f7a628c6c843"
      },
      "outputs": [
        {
          "output_type": "execute_result",
          "data": {
            "text/plain": [
              "['c', 'b', 'x', 'e', 'a']"
            ]
          },
          "metadata": {},
          "execution_count": 33
        }
      ],
      "source": [
        "new_list"
      ]
    },
    {
      "cell_type": "code",
      "execution_count": 34,
      "id": "836b220a",
      "metadata": {
        "id": "836b220a"
      },
      "outputs": [],
      "source": [
        "# Используем sort для сортировки списка (в этом случае по алфавиту, а для чисел было бы по возрастанию)\n",
        "new_list.sort()"
      ]
    },
    {
      "cell_type": "code",
      "execution_count": 35,
      "id": "c9c801fb",
      "metadata": {
        "id": "c9c801fb",
        "colab": {
          "base_uri": "https://localhost:8080/"
        },
        "outputId": "d67bacdd-71d0-4b5a-a189-672c38e18d39"
      },
      "outputs": [
        {
          "output_type": "execute_result",
          "data": {
            "text/plain": [
              "['a', 'b', 'c', 'e', 'x']"
            ]
          },
          "metadata": {},
          "execution_count": 35
        }
      ],
      "source": [
        "new_list"
      ]
    },
    {
      "cell_type": "markdown",
      "id": "1c208f9a",
      "metadata": {
        "id": "1c208f9a"
      },
      "source": [
        "## Вложенные списки\n",
        "Прекрасная особенность структур данных в Python состоит в том, что они могут быть вложенными (*nested*). Это значит, что мы можем создавать структуры данных внутри структур данных. Например: список внутри списка.\n",
        "\n",
        "Давайте посмотрим, как это работает!"
      ]
    },
    {
      "cell_type": "code",
      "execution_count": 36,
      "id": "1aaee8e4",
      "metadata": {
        "id": "1aaee8e4"
      },
      "outputs": [],
      "source": [
        "# Создадим три списка\n",
        "lst_1=[1,2,3]\n",
        "lst_2=[4,5,6]\n",
        "lst_3=[7,8,9]\n",
        "\n",
        "# Создадим список списков, получаем матрицу\n",
        "matrix = [lst_1,lst_2,lst_3]"
      ]
    },
    {
      "cell_type": "code",
      "execution_count": 37,
      "id": "e051d871",
      "metadata": {
        "id": "e051d871",
        "colab": {
          "base_uri": "https://localhost:8080/"
        },
        "outputId": "ae5be508-75b3-400d-af71-7e657074b8a5"
      },
      "outputs": [
        {
          "output_type": "execute_result",
          "data": {
            "text/plain": [
              "[[1, 2, 3], [4, 5, 6], [7, 8, 9]]"
            ]
          },
          "metadata": {},
          "execution_count": 37
        }
      ],
      "source": [
        "# Проверка\n",
        "matrix"
      ]
    },
    {
      "cell_type": "markdown",
      "id": "3c9cf9bb",
      "metadata": {
        "id": "3c9cf9bb"
      },
      "source": [
        "Мы можем использовать индексы, чтобы получить элементы - но теперь у нас два уровня индексирования. Сначала элементы в списке matrix, а затем элементы внутри выбранного списка!"
      ]
    },
    {
      "cell_type": "code",
      "execution_count": 38,
      "id": "9607862d",
      "metadata": {
        "id": "9607862d",
        "colab": {
          "base_uri": "https://localhost:8080/"
        },
        "outputId": "bc4c9215-62bc-405b-e142-503cc9c8c63d"
      },
      "outputs": [
        {
          "output_type": "execute_result",
          "data": {
            "text/plain": [
              "[1, 2, 3]"
            ]
          },
          "metadata": {},
          "execution_count": 38
        }
      ],
      "source": [
        "# Берем первый элемент в объекте matrix\n",
        "matrix[0]"
      ]
    },
    {
      "cell_type": "code",
      "execution_count": 39,
      "id": "89c06756",
      "metadata": {
        "scrolled": false,
        "id": "89c06756",
        "colab": {
          "base_uri": "https://localhost:8080/"
        },
        "outputId": "0b26903d-62c2-4266-8280-02412c2ab0c0"
      },
      "outputs": [
        {
          "output_type": "execute_result",
          "data": {
            "text/plain": [
              "1"
            ]
          },
          "metadata": {},
          "execution_count": 39
        }
      ],
      "source": [
        "# Берем первый элемент внутри первого элемента в объекте matrix\n",
        "matrix[0][0]"
      ]
    },
    {
      "cell_type": "markdown",
      "id": "6a549728",
      "metadata": {
        "id": "6a549728"
      },
      "source": [
        "# Генераторы списков (List Comprehensions)\n",
        "В Python есть возможность создавать списки с помощью генераторов списков (List Comprehensions). Этот термин трудно перевести на русский язык, иногда его ещё переводят как \"абстракция списков\" или \"списковое включение\". Генераторы списков позволяют быстро создавать списки. Чтобы понять их, нам нужно понять работу циклов for. Не волнуйтесь, если этот раздел пока будет выглядеть не вполне понятно - просто пропустите его, мы вернемся к этой теме позже.\n",
        "\n",
        "Но если Вы хотите знать уже сейчас. то вот пример:"
      ]
    },
    {
      "cell_type": "code",
      "execution_count": 40,
      "id": "c961f25d",
      "metadata": {
        "id": "c961f25d"
      },
      "outputs": [],
      "source": [
        "# Создаем список с помощью цикла for внутри []\n",
        "first_col = [row[0] for row in matrix]"
      ]
    },
    {
      "cell_type": "code",
      "execution_count": 41,
      "id": "9f41735e",
      "metadata": {
        "id": "9f41735e",
        "colab": {
          "base_uri": "https://localhost:8080/"
        },
        "outputId": "13892fb8-9ac0-4340-f922-517264098140"
      },
      "outputs": [
        {
          "output_type": "execute_result",
          "data": {
            "text/plain": [
              "[1, 4, 7]"
            ]
          },
          "metadata": {},
          "execution_count": 41
        }
      ],
      "source": [
        "first_col"
      ]
    },
    {
      "cell_type": "markdown",
      "id": "3e09d561",
      "metadata": {
        "collapsed": true,
        "id": "3e09d561"
      },
      "source": [
        "## Пример 1"
      ]
    },
    {
      "cell_type": "code",
      "execution_count": 42,
      "id": "b283c0da",
      "metadata": {
        "collapsed": true,
        "id": "b283c0da"
      },
      "outputs": [],
      "source": [
        "# Получить все буквы в строке\n",
        "lst = [x for x in 'word']"
      ]
    },
    {
      "cell_type": "code",
      "execution_count": 43,
      "id": "915af7db",
      "metadata": {
        "id": "915af7db",
        "outputId": "f13a3560-a89e-401e-8f3a-0a5eb7b6fc5e",
        "colab": {
          "base_uri": "https://localhost:8080/"
        }
      },
      "outputs": [
        {
          "output_type": "execute_result",
          "data": {
            "text/plain": [
              "['w', 'o', 'r', 'd']"
            ]
          },
          "metadata": {},
          "execution_count": 43
        }
      ],
      "source": [
        "# Проверка\n",
        "lst"
      ]
    },
    {
      "cell_type": "markdown",
      "id": "0b46e369",
      "metadata": {
        "id": "0b46e369"
      },
      "source": [
        "Это основная идея генератора списков. Если Вы знакомы с математической нотацией, то этот формат выглядит похоже, например: x^2 : x in { 0,1,2...10 }\n",
        "\n",
        "Рассмотрим ещё несколько примеров для генератора списков в Python:\n",
        "## Пример 2"
      ]
    },
    {
      "cell_type": "code",
      "execution_count": 44,
      "id": "f97c1a61",
      "metadata": {
        "collapsed": true,
        "id": "f97c1a61"
      },
      "outputs": [],
      "source": [
        "# Взять диапазон чисел, возвести их в квадрат, и вернуть в виде списка\n",
        "lst = [x**2 for x in range(0,11)]"
      ]
    },
    {
      "cell_type": "code",
      "execution_count": 45,
      "id": "df4b1411",
      "metadata": {
        "id": "df4b1411",
        "outputId": "ac8b7185-fbd0-4456-f574-07e81ba5d80b",
        "colab": {
          "base_uri": "https://localhost:8080/"
        }
      },
      "outputs": [
        {
          "output_type": "execute_result",
          "data": {
            "text/plain": [
              "[0, 1, 4, 9, 16, 25, 36, 49, 64, 81, 100]"
            ]
          },
          "metadata": {},
          "execution_count": 45
        }
      ],
      "source": [
        "lst"
      ]
    },
    {
      "cell_type": "markdown",
      "id": "d31356d0",
      "metadata": {
        "id": "d31356d0"
      },
      "source": [
        "## Пример 3\n",
        "Посмотрим как можно добавить оператор <code>if</code>:"
      ]
    },
    {
      "cell_type": "code",
      "execution_count": 46,
      "id": "77c19e0a",
      "metadata": {
        "collapsed": true,
        "id": "77c19e0a"
      },
      "outputs": [],
      "source": [
        "# Взять чётные числа из диапазона\n",
        "lst = [x for x in range(11) if x % 2 == 0]"
      ]
    },
    {
      "cell_type": "code",
      "execution_count": 47,
      "id": "365829f0",
      "metadata": {
        "id": "365829f0",
        "outputId": "8f63e678-51be-484e-f13e-5a7fdf3d727b",
        "colab": {
          "base_uri": "https://localhost:8080/"
        }
      },
      "outputs": [
        {
          "output_type": "execute_result",
          "data": {
            "text/plain": [
              "[0, 2, 4, 6, 8, 10]"
            ]
          },
          "metadata": {},
          "execution_count": 47
        }
      ],
      "source": [
        "lst"
      ]
    },
    {
      "cell_type": "markdown",
      "id": "1423ac0d",
      "metadata": {
        "id": "1423ac0d"
      },
      "source": [
        "## Пример 4\n",
        "Мы также можем выполнить более сложную арифметику:"
      ]
    },
    {
      "cell_type": "code",
      "execution_count": 48,
      "id": "aa236333",
      "metadata": {
        "id": "aa236333",
        "outputId": "35a39110-2ffe-4830-b458-2afead977cdc",
        "colab": {
          "base_uri": "https://localhost:8080/"
        }
      },
      "outputs": [
        {
          "output_type": "execute_result",
          "data": {
            "text/plain": [
              "[32.0, 50.0, 68.18, 94.1]"
            ]
          },
          "metadata": {},
          "execution_count": 48
        }
      ],
      "source": [
        "# Сконвертировать градусы Цельсия в градусы Фаренгейта\n",
        "celsius = [0,10,20.1,34.5]\n",
        "\n",
        "fahrenheit = [((9/5)*temp + 32) for temp in celsius ]\n",
        "\n",
        "fahrenheit"
      ]
    },
    {
      "cell_type": "markdown",
      "id": "be7c4afd",
      "metadata": {
        "id": "be7c4afd"
      },
      "source": [
        "## Пример 5\n",
        "Мы также можем создавать вложенные генераторы списков, например:"
      ]
    },
    {
      "cell_type": "code",
      "execution_count": 49,
      "id": "ffa7d41c",
      "metadata": {
        "id": "ffa7d41c",
        "outputId": "b9be4dcc-3244-4f06-a50b-b3ca91b099bf",
        "colab": {
          "base_uri": "https://localhost:8080/"
        }
      },
      "outputs": [
        {
          "output_type": "execute_result",
          "data": {
            "text/plain": [
              "[0, 1, 16, 81, 256, 625, 1296, 2401, 4096, 6561, 10000]"
            ]
          },
          "metadata": {},
          "execution_count": 49
        }
      ],
      "source": [
        "lst = [ x**2 for x in [x**2 for x in range(11)]]\n",
        "lst"
      ]
    },
    {
      "cell_type": "markdown",
      "id": "316a16bd",
      "metadata": {
        "id": "316a16bd"
      },
      "source": [
        "## Задание 1"
      ]
    },
    {
      "cell_type": "markdown",
      "id": "e753120c",
      "metadata": {
        "id": "e753120c"
      },
      "source": [
        "Есть строка 'hello'. Введите команду, которая выведет букву 'e'. Введите Ваш код в ячейке ниже:"
      ]
    },
    {
      "cell_type": "code",
      "execution_count": 50,
      "id": "0f7b6387",
      "metadata": {
        "id": "0f7b6387",
        "colab": {
          "base_uri": "https://localhost:8080/",
          "height": 35
        },
        "outputId": "788d8959-0811-4591-fcab-049d5d1f900d"
      },
      "outputs": [
        {
          "output_type": "execute_result",
          "data": {
            "text/plain": [
              "'e'"
            ],
            "application/vnd.google.colaboratory.intrinsic+json": {
              "type": "string"
            }
          },
          "metadata": {},
          "execution_count": 50
        }
      ],
      "source": [
        "s = 'hello'\n",
        "# Выведите 'e' с помощью индексирования\n",
        "s[1]\n"
      ]
    },
    {
      "cell_type": "markdown",
      "id": "c11fbdc2",
      "metadata": {
        "id": "c11fbdc2"
      },
      "source": [
        "Выведите строку 'hello' в обратном порядке"
      ]
    },
    {
      "cell_type": "code",
      "execution_count": 65,
      "id": "858fb118",
      "metadata": {
        "id": "858fb118",
        "colab": {
          "base_uri": "https://localhost:8080/"
        },
        "outputId": "2316935d-de5c-41da-8971-3340e0c75330"
      },
      "outputs": [
        {
          "output_type": "stream",
          "name": "stdout",
          "text": [
            "olleh\n"
          ]
        }
      ],
      "source": [
        "s ='hello'\n",
        "reversed_list = list(s)\n",
        "reversed_list.reverse()\n",
        "result = ''.join(reversed_list)\n",
        "print(result)"
      ]
    },
    {
      "cell_type": "markdown",
      "id": "472ec8f4",
      "metadata": {
        "id": "472ec8f4"
      },
      "source": [
        "Используя строку hello, укажите два способа, как можно получить букву 'o' с помощью индексирования."
      ]
    },
    {
      "cell_type": "code",
      "execution_count": 66,
      "id": "18afe82f",
      "metadata": {
        "id": "18afe82f",
        "colab": {
          "base_uri": "https://localhost:8080/",
          "height": 35
        },
        "outputId": "a8c4a952-8280-4612-da2f-ff7f32435e3c"
      },
      "outputs": [
        {
          "output_type": "execute_result",
          "data": {
            "text/plain": [
              "'o'"
            ],
            "application/vnd.google.colaboratory.intrinsic+json": {
              "type": "string"
            }
          },
          "metadata": {},
          "execution_count": 66
        }
      ],
      "source": [
        "s ='hello'\n",
        "# Выведите букву 'o'\n",
        "\n",
        "# Способ 1:\n",
        "s[4]\n"
      ]
    },
    {
      "cell_type": "code",
      "execution_count": 67,
      "id": "6385792a",
      "metadata": {
        "id": "6385792a",
        "colab": {
          "base_uri": "https://localhost:8080/",
          "height": 35
        },
        "outputId": "6bbb0fd8-3c7c-4500-90ce-ec1e8fe121bd"
      },
      "outputs": [
        {
          "output_type": "execute_result",
          "data": {
            "text/plain": [
              "'o'"
            ],
            "application/vnd.google.colaboratory.intrinsic+json": {
              "type": "string"
            }
          },
          "metadata": {},
          "execution_count": 67
        }
      ],
      "source": [
        "# Способ 2:\n",
        "\n",
        "s[-1]"
      ]
    },
    {
      "cell_type": "markdown",
      "id": "e7fee250",
      "metadata": {
        "id": "e7fee250"
      },
      "source": [
        "## Задание 2"
      ]
    },
    {
      "cell_type": "markdown",
      "id": "a4c21283",
      "metadata": {
        "id": "a4c21283"
      },
      "source": [
        "Создайте список [0,0,0] двумя разными способами."
      ]
    },
    {
      "cell_type": "code",
      "execution_count": 69,
      "id": "f24113d3",
      "metadata": {
        "id": "f24113d3"
      },
      "outputs": [],
      "source": [
        "# Способ 1:\n",
        "lst = [0, 0, 0]"
      ]
    },
    {
      "cell_type": "code",
      "execution_count": 68,
      "id": "18a6719b",
      "metadata": {
        "id": "18a6719b"
      },
      "outputs": [],
      "source": [
        "# Способ 2:\n",
        "lst = [0] * 3"
      ]
    },
    {
      "cell_type": "markdown",
      "id": "3be937c8",
      "metadata": {
        "id": "3be937c8"
      },
      "source": [
        "Переопределите 'hello' в этом сложенном списке, чтобы вместо этого сказать 'goodbye':"
      ]
    },
    {
      "cell_type": "code",
      "execution_count": 72,
      "id": "98cbbfa4",
      "metadata": {
        "id": "98cbbfa4",
        "colab": {
          "base_uri": "https://localhost:8080/"
        },
        "outputId": "ef1c9858-a3e0-4d57-f126-38e6bd34e321"
      },
      "outputs": [
        {
          "output_type": "stream",
          "name": "stdout",
          "text": [
            "[1, 2, [3, 4, 'goodbye']]\n"
          ]
        }
      ],
      "source": [
        "list3 = [1,2,[3,4,'hello']]\n",
        "list3[2][2] = 'goodbye'\n",
        "print (list3)"
      ]
    },
    {
      "cell_type": "markdown",
      "id": "e7996674",
      "metadata": {
        "id": "e7996674"
      },
      "source": [
        "Отсортируйте список ниже:"
      ]
    },
    {
      "cell_type": "code",
      "execution_count": 81,
      "id": "a8c1011c",
      "metadata": {
        "id": "a8c1011c",
        "colab": {
          "base_uri": "https://localhost:8080/"
        },
        "outputId": "51c06d09-0674-40f9-f180-3a7943a373fc"
      },
      "outputs": [
        {
          "output_type": "stream",
          "name": "stdout",
          "text": [
            "[1, 3, 4, 5, 6]\n"
          ]
        }
      ],
      "source": [
        "list4=[5,3,4,6,1]\n",
        "list4.sort()\n",
        "print(list4)"
      ]
    }
  ],
  "metadata": {
    "kernelspec": {
      "display_name": "Python 3 (ipykernel)",
      "language": "python",
      "name": "python3"
    },
    "language_info": {
      "codemirror_mode": {
        "name": "ipython",
        "version": 3
      },
      "file_extension": ".py",
      "mimetype": "text/x-python",
      "name": "python",
      "nbconvert_exporter": "python",
      "pygments_lexer": "ipython3",
      "version": "3.9.13"
    },
    "colab": {
      "provenance": []
    }
  },
  "nbformat": 4,
  "nbformat_minor": 5
}